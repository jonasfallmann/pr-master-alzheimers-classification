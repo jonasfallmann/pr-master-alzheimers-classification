{
 "cells": [
  {
   "cell_type": "code",
   "id": "initial_id",
   "metadata": {
    "collapsed": true,
    "ExecuteTime": {
     "end_time": "2025-01-17T10:47:27.047261Z",
     "start_time": "2025-01-17T10:47:26.391885Z"
    }
   },
   "source": [
    "from sklearn.ensemble import RandomForestClassifier\n",
    "import numpy as np\n",
    "from sklearn.model_selection import cross_val_score\n",
    "\n",
    "dataset_base_path = \"/media/jfallmann/T9/University/master_thesis/dataset\"\n",
    "\n",
    "mri_raw_path = f\"{dataset_base_path}/mri/raw\"\n",
    "mri_base_path = f\"{dataset_base_path}/mri\"\n",
    "snp_raw_path = f\"{dataset_base_path}/snp/raw\"\n",
    "mri_bids_path = f\"{dataset_base_path}/mri/bids\"\n",
    "mri_fastsurfer_out = f\"{dataset_base_path}/mri/processed\"\n",
    "tables_path = f\"{dataset_base_path}/tables\""
   ],
   "outputs": [],
   "execution_count": 1
  },
  {
   "metadata": {
    "ExecuteTime": {
     "end_time": "2025-01-15T11:16:39.070439Z",
     "start_time": "2025-01-15T11:16:39.063076Z"
    }
   },
   "cell_type": "code",
   "source": [
    "# import mri data\n",
    "mri_data = np.load(f\"{mri_base_path}/processed_volumes.npy\")\n",
    "\n",
    "# import snp data\n",
    "snp_data = np.load(f\"{dataset_base_path}/snp/processed/genomes.npy\")\n",
    "\n",
    "# import demographic data\n",
    "demographic_data = np.load(f\"{dataset_base_path}/tables/demographic_data.npy\")\n",
    "\n",
    "# import diagnosis data\n",
    "diagnosis_data = np.load(f\"{dataset_base_path}/tables/diagnosis_data.npy\")"
   ],
   "id": "5f80552c4c6cd8cd",
   "outputs": [],
   "execution_count": 3
  },
  {
   "metadata": {
    "ExecuteTime": {
     "end_time": "2025-01-15T11:16:46.095235Z",
     "start_time": "2025-01-15T11:16:46.091156Z"
    }
   },
   "cell_type": "code",
   "source": [
    "# ignore subjects where the whole row is zero in the mri data where rows are subjects and columns are mri data. We want to remove these subjects from all datasets\n",
    "zero_rows = np.where(~mri_data.any(axis=1))[0]\n",
    "mri_data = np.delete(mri_data, zero_rows, axis=0)\n",
    "snp_data = np.delete(snp_data, zero_rows, axis=0)\n",
    "demographic_data = np.delete(demographic_data, zero_rows, axis=0)\n",
    "diagnosis_data = np.delete(diagnosis_data, zero_rows, axis=0)\n"
   ],
   "id": "b408ac47d7f68957",
   "outputs": [],
   "execution_count": 4
  },
  {
   "metadata": {
    "ExecuteTime": {
     "end_time": "2025-01-15T11:16:58.099265Z",
     "start_time": "2025-01-15T11:16:58.095044Z"
    }
   },
   "cell_type": "code",
   "source": [
    "mri_data.shape"
   ],
   "id": "eaabac6bccb25926",
   "outputs": [
    {
     "data": {
      "text/plain": [
       "(407, 95)"
      ]
     },
     "execution_count": 5,
     "metadata": {},
     "output_type": "execute_result"
    }
   ],
   "execution_count": 5
  },
  {
   "metadata": {
    "ExecuteTime": {
     "end_time": "2025-01-15T11:19:39.561252Z",
     "start_time": "2025-01-15T11:19:39.555084Z"
    }
   },
   "cell_type": "code",
   "source": [
    "# concatenate mri_data, snp_data, demographic_data\n",
    "X = np.concatenate((mri_data, snp_data, demographic_data), axis=1)\n",
    "Y = diagnosis_data[:, 0]"
   ],
   "id": "fa7e4b4de09982bb",
   "outputs": [],
   "execution_count": 6
  },
  {
   "metadata": {
    "ExecuteTime": {
     "end_time": "2025-01-15T11:19:40.473171Z",
     "start_time": "2025-01-15T11:19:40.469550Z"
    }
   },
   "cell_type": "code",
   "source": [
    "def fit_classifier(X, Y):\n",
    "    # train test split\n",
    "    from sklearn.model_selection import train_test_split\n",
    "    X_train, X_test, Y_train, Y_test = train_test_split(X, Y, test_size=0.2, random_state=42)\n",
    "\n",
    "    # train random forest classifier\n",
    "    clf = RandomForestClassifier(n_estimators=50, random_state=42)\n",
    "    classifier = clf.fit(X_train, Y_train)\n",
    "\n",
    "    # evaluate classifier\n",
    "    from sklearn.metrics import accuracy_score\n",
    "    Y_pred = classifier.predict(X_test)\n",
    "    return accuracy_score(Y_test, Y_pred)"
   ],
   "id": "d14377c2723cddbc",
   "outputs": [],
   "execution_count": 7
  },
  {
   "metadata": {
    "ExecuteTime": {
     "end_time": "2025-01-15T11:19:42.652854Z",
     "start_time": "2025-01-15T11:19:42.599691Z"
    }
   },
   "cell_type": "code",
   "source": [
    "# select the top N features according to PCA\n",
    "from sklearn.decomposition import PCA\n",
    "n_features = 10\n",
    "pca = PCA(n_components=n_features)\n",
    "X = pca.fit_transform(X)"
   ],
   "id": "ebc2223154048a79",
   "outputs": [],
   "execution_count": 8
  },
  {
   "metadata": {
    "ExecuteTime": {
     "end_time": "2025-01-15T11:19:44.256028Z",
     "start_time": "2025-01-15T11:19:43.921928Z"
    }
   },
   "cell_type": "code",
   "source": [
    "scores = cross_val_score(RandomForestClassifier(n_estimators=50, random_state=42), X, Y, cv=5)\n",
    "scores.mean()"
   ],
   "id": "b4c8521afa8711e5",
   "outputs": [
    {
     "data": {
      "text/plain": [
       "0.503733815115929"
      ]
     },
     "execution_count": 9,
     "metadata": {},
     "output_type": "execute_result"
    }
   ],
   "execution_count": 9
  },
  {
   "metadata": {
    "ExecuteTime": {
     "end_time": "2025-01-15T11:19:47.790877Z",
     "start_time": "2025-01-15T11:19:47.788705Z"
    }
   },
   "cell_type": "code",
   "source": [
    "# remove all samples where diagnosis is not 1 or 3\n",
    "X_cn_ad = X[np.where((Y == 1) | (Y == 3))]\n",
    "Y_cn_ad = Y[np.where((Y == 1) | (Y == 3))]"
   ],
   "id": "6edbf2d117e7c91d",
   "outputs": [],
   "execution_count": 10
  },
  {
   "metadata": {
    "ExecuteTime": {
     "end_time": "2025-01-15T11:19:49.086342Z",
     "start_time": "2025-01-15T11:19:48.841403Z"
    }
   },
   "cell_type": "code",
   "source": [
    "scores = cross_val_score(RandomForestClassifier(n_estimators=50, random_state=42), X_cn_ad, Y_cn_ad, cv=5)\n",
    "scores.mean()"
   ],
   "id": "52531d2dad6ea7a2",
   "outputs": [
    {
     "data": {
      "text/plain": [
       "0.7421052631578947"
      ]
     },
     "execution_count": 11,
     "metadata": {},
     "output_type": "execute_result"
    }
   ],
   "execution_count": 11
  },
  {
   "metadata": {
    "ExecuteTime": {
     "end_time": "2025-01-15T11:19:50.100561Z",
     "start_time": "2025-01-15T11:19:50.097989Z"
    }
   },
   "cell_type": "code",
   "source": [
    "X_mci_ad = X[np.where((Y == 2) | (Y == 3))]\n",
    "Y_mci_ad = Y[np.where((Y == 2) | (Y == 3))]"
   ],
   "id": "68f280e19bf89ed4",
   "outputs": [],
   "execution_count": 12
  },
  {
   "metadata": {
    "ExecuteTime": {
     "end_time": "2025-01-15T11:19:51.559557Z",
     "start_time": "2025-01-15T11:19:51.293651Z"
    }
   },
   "cell_type": "code",
   "source": [
    "scores = cross_val_score(RandomForestClassifier(n_estimators=50, random_state=42), X_mci_ad, Y_mci_ad, cv=5)\n",
    "scores.mean()"
   ],
   "id": "6b8642cb1e8ced40",
   "outputs": [
    {
     "data": {
      "text/plain": [
       "0.7905050505050506"
      ]
     },
     "execution_count": 13,
     "metadata": {},
     "output_type": "execute_result"
    }
   ],
   "execution_count": 13
  }
 ],
 "metadata": {
  "kernelspec": {
   "display_name": "Python 3",
   "language": "python",
   "name": "python3"
  },
  "language_info": {
   "codemirror_mode": {
    "name": "ipython",
    "version": 2
   },
   "file_extension": ".py",
   "mimetype": "text/x-python",
   "name": "python",
   "nbconvert_exporter": "python",
   "pygments_lexer": "ipython2",
   "version": "2.7.6"
  }
 },
 "nbformat": 4,
 "nbformat_minor": 5
}
