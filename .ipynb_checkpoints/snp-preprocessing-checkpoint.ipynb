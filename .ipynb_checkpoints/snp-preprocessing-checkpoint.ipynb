{
 "cells": [
  {
   "metadata": {
    "ExecuteTime": {
     "end_time": "2024-12-29T20:06:25.238724Z",
     "start_time": "2024-12-29T20:06:25.236159Z"
    }
   },
   "cell_type": "code",
   "source": [
    "dataset_base_path = \"/media/jfallmann/T9/University/master_thesis/dataset\"\n",
    "raw_snp_path = f\"{dataset_base_path}/snp/raw\"\n",
    "snp_path = f\"{dataset_base_path}/snp\""
   ],
   "outputs": [],
   "execution_count": 3
  },
  {
   "cell_type": "code",
   "metadata": {
    "collapsed": true,
    "ExecuteTime": {
     "end_time": "2024-12-29T20:06:26.367996Z",
     "start_time": "2024-12-29T20:06:26.319822Z"
    }
   },
   "source": [
    "import pandas as pd\n",
    "\n",
    "#snp data taken from https://advp.niagads.org/\n",
    "variants = pd.read_csv(f\"{snp_path}/advp_variants.tsv\", sep='\\t')\n",
    "variants.head()"
   ],
   "outputs": [
    {
     "data": {
      "text/plain": [
       "  #dbSNP_hg38_chr  dbSNP_hg38_position      Top SNP   P-value LocusName  \\\n",
       "0            chr1              6434683   rs12074379   0.00726      ESPN   \n",
       "1            chr1              6434683   rs12074379  8.51E-40        NR   \n",
       "2            chr1              8708071  rs112053331    0.0009      RERE   \n",
       "3            chr1              8708071  rs112053331   0.08392       NaN   \n",
       "4            chr1             11487007    rs2379135    0.0156    PTCHD2   \n",
       "\n",
       "  RA 1(Reported Allele 1) nonref_allele nonref_effect  OR_nonref  \\\n",
       "0                       T             T            NR        NaN   \n",
       "1                       T             T            NR        NaN   \n",
       "2                      NR            NR            NR        NaN   \n",
       "3                      NR            NR            NR        NaN   \n",
       "4                      NR            NR            NR        NaN   \n",
       "\n",
       "  nearest_gene_symb  Study type      Study Design  Pubmed PMID Population_map  \\\n",
       "0              ESPN   SNP-based      Disease risk     30636644      Caucasian   \n",
       "1              ESPN   SNP-based              eQTL     30636644      Caucasian   \n",
       "2              RERE   SNP-based  Cross phenotype      30010129      Caucasian   \n",
       "3              RERE  Gene-based  Cross phenotype      30010129      Caucasian   \n",
       "4             DISP3   SNP-based     Endophenotype     22245343      Caucasian   \n",
       "\n",
       "           Cohort_simple3 Sample size         Analysis group  \\\n",
       "0  ADGC, CHS, CHARGE, HRS       10191  Plan 3 (only females)   \n",
       "1  ADGC, CHS, CHARGE, HRS       10191  Plan 3 (only females)   \n",
       "2                    IGAP       54162                    All   \n",
       "3                    IGAP       54162                    All   \n",
       "4                    ADNI         757                    All   \n",
       "\n",
       "                        Phenotype Phenotype-derived most_severe_consequence  \n",
       "0                              AD                AD          intron_variant  \n",
       "1  ESPN (ILMN_1806710) expression        Expression          intron_variant  \n",
       "2                              AD                AD          intron_variant  \n",
       "3                              AD                AD          intron_variant  \n",
       "4                             MRI           Imaging          intron_variant  "
      ],
      "text/html": [
       "<div>\n",
       "<style scoped>\n",
       "    .dataframe tbody tr th:only-of-type {\n",
       "        vertical-align: middle;\n",
       "    }\n",
       "\n",
       "    .dataframe tbody tr th {\n",
       "        vertical-align: top;\n",
       "    }\n",
       "\n",
       "    .dataframe thead th {\n",
       "        text-align: right;\n",
       "    }\n",
       "</style>\n",
       "<table border=\"1\" class=\"dataframe\">\n",
       "  <thead>\n",
       "    <tr style=\"text-align: right;\">\n",
       "      <th></th>\n",
       "      <th>#dbSNP_hg38_chr</th>\n",
       "      <th>dbSNP_hg38_position</th>\n",
       "      <th>Top SNP</th>\n",
       "      <th>P-value</th>\n",
       "      <th>LocusName</th>\n",
       "      <th>RA 1(Reported Allele 1)</th>\n",
       "      <th>nonref_allele</th>\n",
       "      <th>nonref_effect</th>\n",
       "      <th>OR_nonref</th>\n",
       "      <th>nearest_gene_symb</th>\n",
       "      <th>Study type</th>\n",
       "      <th>Study Design</th>\n",
       "      <th>Pubmed PMID</th>\n",
       "      <th>Population_map</th>\n",
       "      <th>Cohort_simple3</th>\n",
       "      <th>Sample size</th>\n",
       "      <th>Analysis group</th>\n",
       "      <th>Phenotype</th>\n",
       "      <th>Phenotype-derived</th>\n",
       "      <th>most_severe_consequence</th>\n",
       "    </tr>\n",
       "  </thead>\n",
       "  <tbody>\n",
       "    <tr>\n",
       "      <th>0</th>\n",
       "      <td>chr1</td>\n",
       "      <td>6434683</td>\n",
       "      <td>rs12074379</td>\n",
       "      <td>0.00726</td>\n",
       "      <td>ESPN</td>\n",
       "      <td>T</td>\n",
       "      <td>T</td>\n",
       "      <td>NR</td>\n",
       "      <td>NaN</td>\n",
       "      <td>ESPN</td>\n",
       "      <td>SNP-based</td>\n",
       "      <td>Disease risk</td>\n",
       "      <td>30636644</td>\n",
       "      <td>Caucasian</td>\n",
       "      <td>ADGC, CHS, CHARGE, HRS</td>\n",
       "      <td>10191</td>\n",
       "      <td>Plan 3 (only females)</td>\n",
       "      <td>AD</td>\n",
       "      <td>AD</td>\n",
       "      <td>intron_variant</td>\n",
       "    </tr>\n",
       "    <tr>\n",
       "      <th>1</th>\n",
       "      <td>chr1</td>\n",
       "      <td>6434683</td>\n",
       "      <td>rs12074379</td>\n",
       "      <td>8.51E-40</td>\n",
       "      <td>NR</td>\n",
       "      <td>T</td>\n",
       "      <td>T</td>\n",
       "      <td>NR</td>\n",
       "      <td>NaN</td>\n",
       "      <td>ESPN</td>\n",
       "      <td>SNP-based</td>\n",
       "      <td>eQTL</td>\n",
       "      <td>30636644</td>\n",
       "      <td>Caucasian</td>\n",
       "      <td>ADGC, CHS, CHARGE, HRS</td>\n",
       "      <td>10191</td>\n",
       "      <td>Plan 3 (only females)</td>\n",
       "      <td>ESPN (ILMN_1806710) expression</td>\n",
       "      <td>Expression</td>\n",
       "      <td>intron_variant</td>\n",
       "    </tr>\n",
       "    <tr>\n",
       "      <th>2</th>\n",
       "      <td>chr1</td>\n",
       "      <td>8708071</td>\n",
       "      <td>rs112053331</td>\n",
       "      <td>0.0009</td>\n",
       "      <td>RERE</td>\n",
       "      <td>NR</td>\n",
       "      <td>NR</td>\n",
       "      <td>NR</td>\n",
       "      <td>NaN</td>\n",
       "      <td>RERE</td>\n",
       "      <td>SNP-based</td>\n",
       "      <td>Cross phenotype</td>\n",
       "      <td>30010129</td>\n",
       "      <td>Caucasian</td>\n",
       "      <td>IGAP</td>\n",
       "      <td>54162</td>\n",
       "      <td>All</td>\n",
       "      <td>AD</td>\n",
       "      <td>AD</td>\n",
       "      <td>intron_variant</td>\n",
       "    </tr>\n",
       "    <tr>\n",
       "      <th>3</th>\n",
       "      <td>chr1</td>\n",
       "      <td>8708071</td>\n",
       "      <td>rs112053331</td>\n",
       "      <td>0.08392</td>\n",
       "      <td>NaN</td>\n",
       "      <td>NR</td>\n",
       "      <td>NR</td>\n",
       "      <td>NR</td>\n",
       "      <td>NaN</td>\n",
       "      <td>RERE</td>\n",
       "      <td>Gene-based</td>\n",
       "      <td>Cross phenotype</td>\n",
       "      <td>30010129</td>\n",
       "      <td>Caucasian</td>\n",
       "      <td>IGAP</td>\n",
       "      <td>54162</td>\n",
       "      <td>All</td>\n",
       "      <td>AD</td>\n",
       "      <td>AD</td>\n",
       "      <td>intron_variant</td>\n",
       "    </tr>\n",
       "    <tr>\n",
       "      <th>4</th>\n",
       "      <td>chr1</td>\n",
       "      <td>11487007</td>\n",
       "      <td>rs2379135</td>\n",
       "      <td>0.0156</td>\n",
       "      <td>PTCHD2</td>\n",
       "      <td>NR</td>\n",
       "      <td>NR</td>\n",
       "      <td>NR</td>\n",
       "      <td>NaN</td>\n",
       "      <td>DISP3</td>\n",
       "      <td>SNP-based</td>\n",
       "      <td>Endophenotype</td>\n",
       "      <td>22245343</td>\n",
       "      <td>Caucasian</td>\n",
       "      <td>ADNI</td>\n",
       "      <td>757</td>\n",
       "      <td>All</td>\n",
       "      <td>MRI</td>\n",
       "      <td>Imaging</td>\n",
       "      <td>intron_variant</td>\n",
       "    </tr>\n",
       "  </tbody>\n",
       "</table>\n",
       "</div>"
      ]
     },
     "execution_count": 4,
     "metadata": {},
     "output_type": "execute_result"
    }
   ],
   "execution_count": 4
  },
  {
   "cell_type": "code",
   "source": [
    "# order variants by p-value and select the top 150 variants\n",
    "top_variants = variants.sort_values('P-value')\n",
    "top_variants['Top SNP']"
   ],
   "metadata": {
    "collapsed": false,
    "ExecuteTime": {
     "end_time": "2024-12-29T20:06:28.381074Z",
     "start_time": "2024-12-29T20:06:28.369918Z"
    }
   },
   "outputs": [
    {
     "data": {
      "text/plain": [
       "2206    rs17182607\n",
       "3374     rs2075650\n",
       "1182    rs11602981\n",
       "4870    rs62341097\n",
       "1886     rs1629316\n",
       "           ...    \n",
       "4629    rs11711889\n",
       "5418    rs10271466\n",
       "5419    rs10271466\n",
       "6163     rs6477258\n",
       "6164     rs6477258\n",
       "Name: Top SNP, Length: 6346, dtype: object"
      ]
     },
     "execution_count": 5,
     "metadata": {},
     "output_type": "execute_result"
    }
   ],
   "execution_count": 5
  },
  {
   "cell_type": "code",
   "execution_count": 30,
   "outputs": [],
   "source": [
    "top_k_snps = 3000\n",
    "top_snps = top_variants['Top SNP'].head(top_k_snps).tolist()\n",
    "top_snps = set(top_snps)"
   ],
   "metadata": {
    "collapsed": false,
    "ExecuteTime": {
     "end_time": "2024-12-09T18:33:44.355029Z",
     "start_time": "2024-12-09T18:33:44.353112Z"
    }
   }
  },
  {
   "metadata": {},
   "cell_type": "code",
   "outputs": [],
   "execution_count": null,
   "source": [
    "MISSING_CALL = 0\n",
    "REFERENCE = 1\n",
    "HETEROZYGOUS_MUTANT = 2\n",
    "HOMOZYGOUS_MUTANT = 3"
   ]
  },
  {
   "metadata": {},
   "cell_type": "code",
   "outputs": [],
   "execution_count": null,
   "source": [
    "class PatientGenome:\n",
    "    def __init__(self, snps: list, subject_id: str):\n",
    "        # we store a map with snp-id to type and init all snps with missing call\n",
    "        self.genome = {snp: MISSING_CALL for snp in snps}\n",
    "        self.subject_id = subject_id\n",
    "\n",
    "    def add_genome(self, snp_id, snp_type):\n",
    "        self.genome[snp_id] = snp_type"
   ]
  },
  {
   "cell_type": "code",
   "execution_count": 43,
   "outputs": [
    {
     "name": "stdout",
     "output_type": "stream",
     "text": [
      "ERROR! Session/line number was not unique in database. History logging moved to new session 219\n"
     ]
    }
   ],
   "source": [
    "import csv\n",
    "import os\n",
    "import re\n",
    "snp_sets = []\n",
    "n_worker = 8\n",
    "\n",
    "def get_snps_from_vcf(vcf_file, top_snps):\n",
    "    genome_split_regex = r'(.*)_SNPs'\n",
    "    subject_id = re.search(genome_split_regex, os.path.basename(vcf_file)).group(1)\n",
    "    genome = PatientGenome(top_snps, subject_id)\n",
    "    # read vcf file\n",
    "    with open(vcf_file, 'r') as f:\n",
    "        reader = csv.reader(f, delimiter='\\t')\n",
    "        for row in reader:\n",
    "            if row[0].startswith(\"#\"):\n",
    "                continue\n",
    "            chrom, pos, id, ref, alt, qual, filter, info, format, *samples = row\n",
    "\n",
    "            # select the sample with the highest quality score\n",
    "            sample = samples[0]\n",
    "            sample_data = sample.split(':')\n",
    "            \n",
    "\n",
    "for vcf_file in snp_files:\n",
    "    get_snps_from_vcf(vcf_file, top_snps)"
   ],
   "metadata": {
    "collapsed": false,
    "ExecuteTime": {
     "end_time": "2024-12-09T19:54:16.889237Z",
     "start_time": "2024-12-09T19:13:18.960362Z"
    }
   }
  },
  {
   "cell_type": "code",
   "execution_count": 45,
   "outputs": [
    {
     "data": {
      "text/plain": "53"
     },
     "execution_count": 45,
     "metadata": {},
     "output_type": "execute_result"
    }
   ],
   "source": [
    "# get the intersection of all snp sets\n",
    "common_snps = snp_sets[0].intersection(*snp_sets)\n",
    "len(common_snps)"
   ],
   "metadata": {
    "collapsed": false,
    "ExecuteTime": {
     "end_time": "2024-12-09T20:19:59.921389Z",
     "start_time": "2024-12-09T20:19:59.918757Z"
    }
   }
  },
  {
   "cell_type": "code",
   "execution_count": 46,
   "outputs": [
    {
     "data": {
      "text/plain": "905"
     },
     "execution_count": 46,
     "metadata": {},
     "output_type": "execute_result"
    }
   ],
   "source": [
    "union_snps = snp_sets[0].union(*snp_sets)\n",
    "len(union_snps)"
   ],
   "metadata": {
    "collapsed": false,
    "ExecuteTime": {
     "end_time": "2024-12-09T20:20:01.458460Z",
     "start_time": "2024-12-09T20:20:01.455382Z"
    }
   }
  }
 ],
 "metadata": {
  "kernelspec": {
   "display_name": "Python 3",
   "language": "python",
   "name": "python3"
  },
  "language_info": {
   "codemirror_mode": {
    "name": "ipython",
    "version": 2
   },
   "file_extension": ".py",
   "mimetype": "text/x-python",
   "name": "python",
   "nbconvert_exporter": "python",
   "pygments_lexer": "ipython2",
   "version": "2.7.6"
  }
 },
 "nbformat": 4,
 "nbformat_minor": 0
}
