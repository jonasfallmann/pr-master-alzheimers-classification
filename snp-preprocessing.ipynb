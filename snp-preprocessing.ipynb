{
 "cells": [
  {
   "cell_type": "code",
   "execution_count": 1,
   "metadata": {
    "collapsed": true,
    "ExecuteTime": {
     "end_time": "2024-12-10T08:14:50.705635Z",
     "start_time": "2024-12-10T08:14:50.363358Z"
    }
   },
   "outputs": [
    {
     "name": "stdout",
     "output_type": "stream",
     "text": [
      "6346\n"
     ]
    },
    {
     "data": {
      "text/plain": "  #dbSNP_hg38_chr  dbSNP_hg38_position      Top SNP   P-value LocusName  \\\n0            chr1              6434683   rs12074379   0.00726      ESPN   \n1            chr1              6434683   rs12074379  8.51E-40        NR   \n2            chr1              8708071  rs112053331    0.0009      RERE   \n3            chr1              8708071  rs112053331   0.08392       NaN   \n4            chr1             11487007    rs2379135    0.0156    PTCHD2   \n\n  RA 1(Reported Allele 1) nonref_allele nonref_effect  OR_nonref  \\\n0                       T             T            NR        NaN   \n1                       T             T            NR        NaN   \n2                      NR            NR            NR        NaN   \n3                      NR            NR            NR        NaN   \n4                      NR            NR            NR        NaN   \n\n  nearest_gene_symb  Study type      Study Design  Pubmed PMID Population_map  \\\n0              ESPN   SNP-based      Disease risk     30636644      Caucasian   \n1              ESPN   SNP-based              eQTL     30636644      Caucasian   \n2              RERE   SNP-based  Cross phenotype      30010129      Caucasian   \n3              RERE  Gene-based  Cross phenotype      30010129      Caucasian   \n4             DISP3   SNP-based     Endophenotype     22245343      Caucasian   \n\n           Cohort_simple3 Sample size         Analysis group  \\\n0  ADGC, CHS, CHARGE, HRS       10191  Plan 3 (only females)   \n1  ADGC, CHS, CHARGE, HRS       10191  Plan 3 (only females)   \n2                    IGAP       54162                    All   \n3                    IGAP       54162                    All   \n4                    ADNI         757                    All   \n\n                        Phenotype Phenotype-derived most_severe_consequence  \n0                              AD                AD          intron_variant  \n1  ESPN (ILMN_1806710) expression        Expression          intron_variant  \n2                              AD                AD          intron_variant  \n3                              AD                AD          intron_variant  \n4                             MRI           Imaging          intron_variant  ",
      "text/html": "<div>\n<style scoped>\n    .dataframe tbody tr th:only-of-type {\n        vertical-align: middle;\n    }\n\n    .dataframe tbody tr th {\n        vertical-align: top;\n    }\n\n    .dataframe thead th {\n        text-align: right;\n    }\n</style>\n<table border=\"1\" class=\"dataframe\">\n  <thead>\n    <tr style=\"text-align: right;\">\n      <th></th>\n      <th>#dbSNP_hg38_chr</th>\n      <th>dbSNP_hg38_position</th>\n      <th>Top SNP</th>\n      <th>P-value</th>\n      <th>LocusName</th>\n      <th>RA 1(Reported Allele 1)</th>\n      <th>nonref_allele</th>\n      <th>nonref_effect</th>\n      <th>OR_nonref</th>\n      <th>nearest_gene_symb</th>\n      <th>Study type</th>\n      <th>Study Design</th>\n      <th>Pubmed PMID</th>\n      <th>Population_map</th>\n      <th>Cohort_simple3</th>\n      <th>Sample size</th>\n      <th>Analysis group</th>\n      <th>Phenotype</th>\n      <th>Phenotype-derived</th>\n      <th>most_severe_consequence</th>\n    </tr>\n  </thead>\n  <tbody>\n    <tr>\n      <th>0</th>\n      <td>chr1</td>\n      <td>6434683</td>\n      <td>rs12074379</td>\n      <td>0.00726</td>\n      <td>ESPN</td>\n      <td>T</td>\n      <td>T</td>\n      <td>NR</td>\n      <td>NaN</td>\n      <td>ESPN</td>\n      <td>SNP-based</td>\n      <td>Disease risk</td>\n      <td>30636644</td>\n      <td>Caucasian</td>\n      <td>ADGC, CHS, CHARGE, HRS</td>\n      <td>10191</td>\n      <td>Plan 3 (only females)</td>\n      <td>AD</td>\n      <td>AD</td>\n      <td>intron_variant</td>\n    </tr>\n    <tr>\n      <th>1</th>\n      <td>chr1</td>\n      <td>6434683</td>\n      <td>rs12074379</td>\n      <td>8.51E-40</td>\n      <td>NR</td>\n      <td>T</td>\n      <td>T</td>\n      <td>NR</td>\n      <td>NaN</td>\n      <td>ESPN</td>\n      <td>SNP-based</td>\n      <td>eQTL</td>\n      <td>30636644</td>\n      <td>Caucasian</td>\n      <td>ADGC, CHS, CHARGE, HRS</td>\n      <td>10191</td>\n      <td>Plan 3 (only females)</td>\n      <td>ESPN (ILMN_1806710) expression</td>\n      <td>Expression</td>\n      <td>intron_variant</td>\n    </tr>\n    <tr>\n      <th>2</th>\n      <td>chr1</td>\n      <td>8708071</td>\n      <td>rs112053331</td>\n      <td>0.0009</td>\n      <td>RERE</td>\n      <td>NR</td>\n      <td>NR</td>\n      <td>NR</td>\n      <td>NaN</td>\n      <td>RERE</td>\n      <td>SNP-based</td>\n      <td>Cross phenotype</td>\n      <td>30010129</td>\n      <td>Caucasian</td>\n      <td>IGAP</td>\n      <td>54162</td>\n      <td>All</td>\n      <td>AD</td>\n      <td>AD</td>\n      <td>intron_variant</td>\n    </tr>\n    <tr>\n      <th>3</th>\n      <td>chr1</td>\n      <td>8708071</td>\n      <td>rs112053331</td>\n      <td>0.08392</td>\n      <td>NaN</td>\n      <td>NR</td>\n      <td>NR</td>\n      <td>NR</td>\n      <td>NaN</td>\n      <td>RERE</td>\n      <td>Gene-based</td>\n      <td>Cross phenotype</td>\n      <td>30010129</td>\n      <td>Caucasian</td>\n      <td>IGAP</td>\n      <td>54162</td>\n      <td>All</td>\n      <td>AD</td>\n      <td>AD</td>\n      <td>intron_variant</td>\n    </tr>\n    <tr>\n      <th>4</th>\n      <td>chr1</td>\n      <td>11487007</td>\n      <td>rs2379135</td>\n      <td>0.0156</td>\n      <td>PTCHD2</td>\n      <td>NR</td>\n      <td>NR</td>\n      <td>NR</td>\n      <td>NaN</td>\n      <td>DISP3</td>\n      <td>SNP-based</td>\n      <td>Endophenotype</td>\n      <td>22245343</td>\n      <td>Caucasian</td>\n      <td>ADNI</td>\n      <td>757</td>\n      <td>All</td>\n      <td>MRI</td>\n      <td>Imaging</td>\n      <td>intron_variant</td>\n    </tr>\n  </tbody>\n</table>\n</div>"
     },
     "execution_count": 1,
     "metadata": {},
     "output_type": "execute_result"
    }
   ],
   "source": [
    "import pandas as pd\n",
    "\n",
    "variants = pd.read_csv(\"data/variants.tsv\", sep='\\t')\n",
    "variants.head()"
   ]
  },
  {
   "cell_type": "code",
   "execution_count": 2,
   "outputs": [
    {
     "data": {
      "text/plain": "2206    rs17182607\n3374     rs2075650\n1182    rs11602981\n4870    rs62341097\n1886     rs1629316\n           ...    \n4629    rs11711889\n5418    rs10271466\n5419    rs10271466\n6163     rs6477258\n6164     rs6477258\nName: Top SNP, Length: 6346, dtype: object"
     },
     "execution_count": 2,
     "metadata": {},
     "output_type": "execute_result"
    }
   ],
   "source": [
    "# order variants by p-value and select the top 150 variants\n",
    "top_variants = variants.sort_values('P-value')\n",
    "top_variants['Top SNP']"
   ],
   "metadata": {
    "collapsed": false,
    "ExecuteTime": {
     "end_time": "2024-12-09T18:16:08.153819Z",
     "start_time": "2024-12-09T18:16:08.147669Z"
    }
   }
  },
  {
   "cell_type": "code",
   "execution_count": 3,
   "outputs": [
    {
     "data": {
      "text/plain": "       subject_id visit  PTEDUCAT  DIAGNOSIS  MMSCORE  BCPREDX  subject_age  \\\n948    041_S_4004    sc      14.0        2.0     30.0      NaN        66.80   \n949    098_S_0172   m60      18.0        1.0     29.0      NaN        70.63   \n950    012_S_4012    sc      16.0        2.0     29.0      NaN        68.89   \n951    116_S_4010    sc      18.0        1.0     29.0      NaN        70.80   \n952    023_S_1190   m48      13.0        1.0     29.0      NaN        76.55   \n...           ...   ...       ...        ...      ...      ...          ...   \n15233  033_S_6352   m78       NaN        2.0     28.0      NaN        71.42   \n15241  941_S_6080   m84       NaN        2.0     30.0      NaN        76.90   \n15245  941_S_6499   m78       NaN        1.0     26.0      NaN        69.52   \n15248  007_S_2394  m162       NaN        2.0     29.0      NaN        67.49   \n15261  941_S_6575   m72       NaN        2.0     28.0      NaN        73.49   \n\n       PTGENDER rs2075650 rs11136000  ... rs11767557 rs2899472 rs6583826  \\\n948         2.0        AA         CC  ...         CT        CC        AG   \n949         2.0        AA         CT  ...         TT        CC        GG   \n950         2.0        AA         CT  ...         TT        CC        AG   \n951         2.0        AA         CT  ...         CT        CC        AG   \n952         2.0        AA         CT  ...         CT        CC        AA   \n...         ...       ...        ...  ...        ...       ...       ...   \n15233       1.0        AA         CT  ...         TT        CC        AA   \n15241       2.0        AA         TT  ...         CT        AC        AG   \n15245       2.0        AA         CT  ...         TT        CC        GG   \n15248       1.0        AG         CT  ...         TT        AC        AG   \n15261       1.0        AA         CT  ...         TT        CC        AA   \n\n      rs11568563 rs2830500 rs1800795 rs7185636 rs3818361 rs7741604 rs4735340  \n948           TT        CC        CG        TT        AG        AC        TT  \n949           TT        AC        GG        TT        GG        AA        AT  \n950           TT        AC        CG        CT        GG        AA        AT  \n951           GG        AC        GG        CT        GG        AA        TT  \n952           TT        AC        CC        TT        GG        AA        AT  \n...          ...       ...       ...       ...       ...       ...       ...  \n15233         TT       NaN        GG       NaN        GG       NaN       NaN  \n15241         TT       NaN        CC       NaN        GG       NaN       NaN  \n15245         TT       NaN        GG       NaN        AG       NaN       NaN  \n15248         TT        AC        CG        TT        GG        AA        AT  \n15261         TT       NaN        CG       NaN        AG       NaN       NaN  \n\n[6559 rows x 60 columns]",
      "text/html": "<div>\n<style scoped>\n    .dataframe tbody tr th:only-of-type {\n        vertical-align: middle;\n    }\n\n    .dataframe tbody tr th {\n        vertical-align: top;\n    }\n\n    .dataframe thead th {\n        text-align: right;\n    }\n</style>\n<table border=\"1\" class=\"dataframe\">\n  <thead>\n    <tr style=\"text-align: right;\">\n      <th></th>\n      <th>subject_id</th>\n      <th>visit</th>\n      <th>PTEDUCAT</th>\n      <th>DIAGNOSIS</th>\n      <th>MMSCORE</th>\n      <th>BCPREDX</th>\n      <th>subject_age</th>\n      <th>PTGENDER</th>\n      <th>rs2075650</th>\n      <th>rs11136000</th>\n      <th>...</th>\n      <th>rs11767557</th>\n      <th>rs2899472</th>\n      <th>rs6583826</th>\n      <th>rs11568563</th>\n      <th>rs2830500</th>\n      <th>rs1800795</th>\n      <th>rs7185636</th>\n      <th>rs3818361</th>\n      <th>rs7741604</th>\n      <th>rs4735340</th>\n    </tr>\n  </thead>\n  <tbody>\n    <tr>\n      <th>948</th>\n      <td>041_S_4004</td>\n      <td>sc</td>\n      <td>14.0</td>\n      <td>2.0</td>\n      <td>30.0</td>\n      <td>NaN</td>\n      <td>66.80</td>\n      <td>2.0</td>\n      <td>AA</td>\n      <td>CC</td>\n      <td>...</td>\n      <td>CT</td>\n      <td>CC</td>\n      <td>AG</td>\n      <td>TT</td>\n      <td>CC</td>\n      <td>CG</td>\n      <td>TT</td>\n      <td>AG</td>\n      <td>AC</td>\n      <td>TT</td>\n    </tr>\n    <tr>\n      <th>949</th>\n      <td>098_S_0172</td>\n      <td>m60</td>\n      <td>18.0</td>\n      <td>1.0</td>\n      <td>29.0</td>\n      <td>NaN</td>\n      <td>70.63</td>\n      <td>2.0</td>\n      <td>AA</td>\n      <td>CT</td>\n      <td>...</td>\n      <td>TT</td>\n      <td>CC</td>\n      <td>GG</td>\n      <td>TT</td>\n      <td>AC</td>\n      <td>GG</td>\n      <td>TT</td>\n      <td>GG</td>\n      <td>AA</td>\n      <td>AT</td>\n    </tr>\n    <tr>\n      <th>950</th>\n      <td>012_S_4012</td>\n      <td>sc</td>\n      <td>16.0</td>\n      <td>2.0</td>\n      <td>29.0</td>\n      <td>NaN</td>\n      <td>68.89</td>\n      <td>2.0</td>\n      <td>AA</td>\n      <td>CT</td>\n      <td>...</td>\n      <td>TT</td>\n      <td>CC</td>\n      <td>AG</td>\n      <td>TT</td>\n      <td>AC</td>\n      <td>CG</td>\n      <td>CT</td>\n      <td>GG</td>\n      <td>AA</td>\n      <td>AT</td>\n    </tr>\n    <tr>\n      <th>951</th>\n      <td>116_S_4010</td>\n      <td>sc</td>\n      <td>18.0</td>\n      <td>1.0</td>\n      <td>29.0</td>\n      <td>NaN</td>\n      <td>70.80</td>\n      <td>2.0</td>\n      <td>AA</td>\n      <td>CT</td>\n      <td>...</td>\n      <td>CT</td>\n      <td>CC</td>\n      <td>AG</td>\n      <td>GG</td>\n      <td>AC</td>\n      <td>GG</td>\n      <td>CT</td>\n      <td>GG</td>\n      <td>AA</td>\n      <td>TT</td>\n    </tr>\n    <tr>\n      <th>952</th>\n      <td>023_S_1190</td>\n      <td>m48</td>\n      <td>13.0</td>\n      <td>1.0</td>\n      <td>29.0</td>\n      <td>NaN</td>\n      <td>76.55</td>\n      <td>2.0</td>\n      <td>AA</td>\n      <td>CT</td>\n      <td>...</td>\n      <td>CT</td>\n      <td>CC</td>\n      <td>AA</td>\n      <td>TT</td>\n      <td>AC</td>\n      <td>CC</td>\n      <td>TT</td>\n      <td>GG</td>\n      <td>AA</td>\n      <td>AT</td>\n    </tr>\n    <tr>\n      <th>...</th>\n      <td>...</td>\n      <td>...</td>\n      <td>...</td>\n      <td>...</td>\n      <td>...</td>\n      <td>...</td>\n      <td>...</td>\n      <td>...</td>\n      <td>...</td>\n      <td>...</td>\n      <td>...</td>\n      <td>...</td>\n      <td>...</td>\n      <td>...</td>\n      <td>...</td>\n      <td>...</td>\n      <td>...</td>\n      <td>...</td>\n      <td>...</td>\n      <td>...</td>\n      <td>...</td>\n    </tr>\n    <tr>\n      <th>15233</th>\n      <td>033_S_6352</td>\n      <td>m78</td>\n      <td>NaN</td>\n      <td>2.0</td>\n      <td>28.0</td>\n      <td>NaN</td>\n      <td>71.42</td>\n      <td>1.0</td>\n      <td>AA</td>\n      <td>CT</td>\n      <td>...</td>\n      <td>TT</td>\n      <td>CC</td>\n      <td>AA</td>\n      <td>TT</td>\n      <td>NaN</td>\n      <td>GG</td>\n      <td>NaN</td>\n      <td>GG</td>\n      <td>NaN</td>\n      <td>NaN</td>\n    </tr>\n    <tr>\n      <th>15241</th>\n      <td>941_S_6080</td>\n      <td>m84</td>\n      <td>NaN</td>\n      <td>2.0</td>\n      <td>30.0</td>\n      <td>NaN</td>\n      <td>76.90</td>\n      <td>2.0</td>\n      <td>AA</td>\n      <td>TT</td>\n      <td>...</td>\n      <td>CT</td>\n      <td>AC</td>\n      <td>AG</td>\n      <td>TT</td>\n      <td>NaN</td>\n      <td>CC</td>\n      <td>NaN</td>\n      <td>GG</td>\n      <td>NaN</td>\n      <td>NaN</td>\n    </tr>\n    <tr>\n      <th>15245</th>\n      <td>941_S_6499</td>\n      <td>m78</td>\n      <td>NaN</td>\n      <td>1.0</td>\n      <td>26.0</td>\n      <td>NaN</td>\n      <td>69.52</td>\n      <td>2.0</td>\n      <td>AA</td>\n      <td>CT</td>\n      <td>...</td>\n      <td>TT</td>\n      <td>CC</td>\n      <td>GG</td>\n      <td>TT</td>\n      <td>NaN</td>\n      <td>GG</td>\n      <td>NaN</td>\n      <td>AG</td>\n      <td>NaN</td>\n      <td>NaN</td>\n    </tr>\n    <tr>\n      <th>15248</th>\n      <td>007_S_2394</td>\n      <td>m162</td>\n      <td>NaN</td>\n      <td>2.0</td>\n      <td>29.0</td>\n      <td>NaN</td>\n      <td>67.49</td>\n      <td>1.0</td>\n      <td>AG</td>\n      <td>CT</td>\n      <td>...</td>\n      <td>TT</td>\n      <td>AC</td>\n      <td>AG</td>\n      <td>TT</td>\n      <td>AC</td>\n      <td>CG</td>\n      <td>TT</td>\n      <td>GG</td>\n      <td>AA</td>\n      <td>AT</td>\n    </tr>\n    <tr>\n      <th>15261</th>\n      <td>941_S_6575</td>\n      <td>m72</td>\n      <td>NaN</td>\n      <td>2.0</td>\n      <td>28.0</td>\n      <td>NaN</td>\n      <td>73.49</td>\n      <td>1.0</td>\n      <td>AA</td>\n      <td>CT</td>\n      <td>...</td>\n      <td>TT</td>\n      <td>CC</td>\n      <td>AA</td>\n      <td>TT</td>\n      <td>NaN</td>\n      <td>CG</td>\n      <td>NaN</td>\n      <td>AG</td>\n      <td>NaN</td>\n      <td>NaN</td>\n    </tr>\n  </tbody>\n</table>\n<p>6559 rows × 60 columns</p>\n</div>"
     },
     "execution_count": 3,
     "metadata": {},
     "output_type": "execute_result"
    }
   ],
   "source": [
    "cohort = pd.read_csv(\"data/cohort_tabular.csv\")\n",
    "# filter where snps are empty\n",
    "cohort = cohort[cohort['rs2075650'].notna() & cohort['DIAGNOSIS'].notna() & cohort['MMSCORE'].notna()]\n",
    "cohort"
   ],
   "metadata": {
    "collapsed": false,
    "ExecuteTime": {
     "end_time": "2024-12-09T18:16:09.839197Z",
     "start_time": "2024-12-09T18:16:09.760393Z"
    }
   }
  },
  {
   "cell_type": "code",
   "execution_count": 4,
   "outputs": [
    {
     "data": {
      "text/plain": "1129"
     },
     "execution_count": 4,
     "metadata": {},
     "output_type": "execute_result"
    }
   ],
   "source": [
    "# get unique subject ids\n",
    "unique_subjects = cohort['subject_id'].unique()\n",
    "len(unique_subjects)"
   ],
   "metadata": {
    "collapsed": false,
    "ExecuteTime": {
     "end_time": "2024-12-09T18:16:12.967541Z",
     "start_time": "2024-12-09T18:16:12.963278Z"
    }
   }
  },
  {
   "cell_type": "code",
   "execution_count": 9,
   "outputs": [
    {
     "name": "stdout",
     "output_type": "stream",
     "text": [
      "Number of subjects with snps: 22\n"
     ]
    }
   ],
   "source": [
    "# get snp files in data/snps\n",
    "import glob\n",
    "\n",
    "snp_files = glob.glob(\"data/snps/*.vcf\")\n",
    "subjects_with_snps = []\n",
    "\n",
    "for file in snp_files:\n",
    "    subject_id = file.split(\"/\")[-1].replace(\"_SNPs.vcf\", \"\")\n",
    "    if subject_id in unique_subjects:\n",
    "        subjects_with_snps.append(subject_id)\n",
    "\n",
    "print(f\"Number of subjects with snps: {len(subjects_with_snps)}\")"
   ],
   "metadata": {
    "collapsed": false,
    "ExecuteTime": {
     "end_time": "2024-12-09T18:18:26.323749Z",
     "start_time": "2024-12-09T18:18:26.320144Z"
    }
   }
  },
  {
   "cell_type": "code",
   "execution_count": 30,
   "outputs": [],
   "source": [
    "top_k_snps = 1500\n",
    "top_snps = top_variants['Top SNP'].head(top_k_snps).tolist()\n",
    "top_snps = set(top_snps)"
   ],
   "metadata": {
    "collapsed": false,
    "ExecuteTime": {
     "end_time": "2024-12-09T18:33:44.355029Z",
     "start_time": "2024-12-09T18:33:44.353112Z"
    }
   }
  },
  {
   "cell_type": "code",
   "execution_count": 43,
   "outputs": [
    {
     "name": "stdout",
     "output_type": "stream",
     "text": [
      "ERROR! Session/line number was not unique in database. History logging moved to new session 219\n"
     ]
    }
   ],
   "source": [
    "import vcfpy\n",
    "snp_sets = []\n",
    "n_worker = 8\n",
    "\n",
    "def get_snps_from_vcf(vcf_file, top_snps):\n",
    "    matching_snps = []\n",
    "\n",
    "    reader = vcfpy.Reader.from_path(vcf_file)\n",
    "    # check if snp is in top snps\n",
    "    for record in reader:\n",
    "        # check if any id is in the top snps\n",
    "        if not set(record.ID).isdisjoint(top_snps):\n",
    "            matching_snps.append(record.ID[0])\n",
    "    snp_sets.append(set(matching_snps))\n",
    "\n",
    "for vcf_file in snp_files:\n",
    "    get_snps_from_vcf(vcf_file, top_snps)"
   ],
   "metadata": {
    "collapsed": false,
    "ExecuteTime": {
     "end_time": "2024-12-09T19:54:16.889237Z",
     "start_time": "2024-12-09T19:13:18.960362Z"
    }
   }
  },
  {
   "cell_type": "code",
   "execution_count": 45,
   "outputs": [
    {
     "data": {
      "text/plain": "53"
     },
     "execution_count": 45,
     "metadata": {},
     "output_type": "execute_result"
    }
   ],
   "source": [
    "# get the intersection of all snp sets\n",
    "common_snps = snp_sets[0].intersection(*snp_sets)\n",
    "len(common_snps)"
   ],
   "metadata": {
    "collapsed": false,
    "ExecuteTime": {
     "end_time": "2024-12-09T20:19:59.921389Z",
     "start_time": "2024-12-09T20:19:59.918757Z"
    }
   }
  },
  {
   "cell_type": "code",
   "execution_count": 46,
   "outputs": [
    {
     "data": {
      "text/plain": "905"
     },
     "execution_count": 46,
     "metadata": {},
     "output_type": "execute_result"
    }
   ],
   "source": [
    "union_snps = snp_sets[0].union(*snp_sets)\n",
    "len(union_snps)"
   ],
   "metadata": {
    "collapsed": false,
    "ExecuteTime": {
     "end_time": "2024-12-09T20:20:01.458460Z",
     "start_time": "2024-12-09T20:20:01.455382Z"
    }
   }
  }
 ],
 "metadata": {
  "kernelspec": {
   "display_name": "Python 3",
   "language": "python",
   "name": "python3"
  },
  "language_info": {
   "codemirror_mode": {
    "name": "ipython",
    "version": 2
   },
   "file_extension": ".py",
   "mimetype": "text/x-python",
   "name": "python",
   "nbconvert_exporter": "python",
   "pygments_lexer": "ipython2",
   "version": "2.7.6"
  }
 },
 "nbformat": 4,
 "nbformat_minor": 0
}
